{
 "cells": [
  {
   "cell_type": "code",
   "execution_count": 1,
   "metadata": {},
   "outputs": [
    {
     "name": "stderr",
     "output_type": "stream",
     "text": [
      "2023-01-27 11:23:36.370000: I tensorflow/core/platform/cpu_feature_guard.cc:193] This TensorFlow binary is optimized with oneAPI Deep Neural Network Library (oneDNN) to use the following CPU instructions in performance-critical operations:  SSE4.1 SSE4.2 AVX AVX2 FMA\n",
      "To enable them in other operations, rebuild TensorFlow with the appropriate compiler flags.\n"
     ]
    }
   ],
   "source": [
    "import pandas as pd\n",
    "import numpy as np\n",
    "\n",
    "from keras import backend as K\n",
    "import tensorflow as tf\n",
    "from tensorflow.keras.preprocessing.sequence import pad_sequences\n",
    "from tensorflow.keras.layers import Embedding, LSTM, Dense, Bidirectional\n",
    "from tensorflow.keras.preprocessing.text import Tokenizer\n",
    "from tensorflow.keras.models import Sequential\n",
    "from tensorflow.keras.optimizers import Adam"
   ]
  },
  {
   "attachments": {},
   "cell_type": "markdown",
   "metadata": {},
   "source": [
    "We need to read in the cleaned data file and convert to snippets at each Z (one sentence).\n",
    "\n",
    "We do this based on the tutorial in: https://towardsdatascience.com/a-deep-learning-approach-in-predicting-the-next-word-s-7b0ee9341bfe\n"
   ]
  },
  {
   "cell_type": "code",
   "execution_count": 2,
   "metadata": {},
   "outputs": [],
   "source": [
    "corpus = []\n",
    "with open('cleared_data/cleared.txt') as f:\n",
    "    lines = f.readlines()\n",
    "for line in lines:\n",
    "    for l in line.split(\"Z\"):\n",
    "        corpus.append(str(l + \"Z\").strip())\n"
   ]
  },
  {
   "cell_type": "code",
   "execution_count": 3,
   "metadata": {},
   "outputs": [
    {
     "name": "stdout",
     "output_type": "stream",
     "text": [
      "2006467\n",
      "<class 'list'>\n",
      "['MX1+8 MX1+6 MX1+1 MX10 MY1+9 MY1+7 MY1+6 MY1+1 QX1+1 QY1-2 QY1-1 QY10 QX2+2 QX20 QY2-3 QY2-2 QX1+3 QX1+1 QX10 QY1-4 QY1-2 QX2+5 QX2+3 QX2+2 QY2-5 QY2-1 QY20 QX1+7 QX1+4 QX1+2 QX1+1 QX10 QY1-6 QY1-4 QY1-2 QY1-1 QY10 QX2+7 QX2+6 QX2+5 QX2+4 QX2+3 QX2+1 QX20 QY2-7 QY2-4 QY20 QX1+8 QX1+4 QX1+2 QX10 QY1-7 QY1-5 QY10 QX2+8 QX2+5 QX2+2 QX2+1 QY2-7 QY2-5 QY2-1 QY20 QX1+8 QX1+5 QX1+4 QY1-7 QY1-5 QY10 QX2+8 QX2+5 QX2+4 QX2+2 QY2-7 QY2-4 QY2-1 QY20 QX1+8 QX1+5 QX1+4 QX1+3 QX1+2 QX1+1 QY1-7 QY1-1 QX2+8 QX2+5 QX2+1 QY2-6 QY2-4 QY2-2 QY20 QX1+7 QX1+6 QX1+5 QX1+4 QX1+3 QX1+2 QY1-4 QY1-2 QY1-1 QX2+3 QX2+1 QX20 QY2+3 QY2+1 QY20 QX1-1 QY1+3 QY1+2 QY10 Z', 'MX1+8 MX1+5 MX1+4 MX1+3 MY1+9 MY1+4 MY1+3 MY1+2 MY10 QX1+1 QY1-2 QY1-1 QX2+2 QY2-3 QY2-1 QX1+3 QY1-4 QY10 QX2+5 QX2+1 QX20 QY2-4 QY2-3 QY2-2 QY20 QX1+7 QX1+3 QX1+2 QX1+1 QX10 QY1-6 QY1-4 QX2+7 QX2+6 QX2+5 QX2+4 QX2+3 QX2+1 QX20 QY2-7 QY2-4 QX1+8 QX1+4 QX1+2 QY1-7 QY1-5 QY10 QX2+8 QX2+5 QX2+2 QX2+1 QY2-7 QY2-5 QY20 QX1+8 QX1+5 QX1+3 QX1+2 QX1+1 QX10 QY1-7 QY1-4 QY1-3 QY1-2 QY1-1 QY10 QX2+8 QX2+5 QX2+4 QX2+1 QX20 QY2-7 QY2-4 QY20 QX1+8 QX1+5 QX1+4 QX1+3 QX1+2 QX10 QY1-6 QY1-5 QY1-4 QY1-3 QY1-2 QY1-1 QY10 QX2+8 QX2+5 QX2+1 QY2-6 QY2-4 QY2-2 QX1+7 QX1+6 QX1+5 QX1+4 QX1+3 QX1+2 QY1-4 QY1-2 QY1-1 QX2+3 QX20 QY2+3 QY2+2 QY20 QX1+3 QY1+3 QY1+2 QY1+1 QX2+2 QX2+1 QX20 QY2+3 QY2+2 QY2+1 QX1-1 QY1+3 QY1+2 QY1+1 Z']\n"
     ]
    }
   ],
   "source": [
    "print(len(corpus))\n",
    "print(type(corpus))\n",
    "print(corpus[:2])"
   ]
  },
  {
   "cell_type": "code",
   "execution_count": 4,
   "metadata": {},
   "outputs": [],
   "source": [
    "tokenizer = Tokenizer(filters='\\t\\n', lower=False)\n",
    "tokenizer.fit_on_texts(corpus)"
   ]
  },
  {
   "cell_type": "code",
   "execution_count": null,
   "metadata": {},
   "outputs": [],
   "source": [
    "word_index = tokenizer.word_index\n",
    "total_unique_words = len(tokenizer.word_index) + 1 \n",
    "print(total_unique_words)\n",
    "##print(word_index)"
   ]
  },
  {
   "cell_type": "code",
   "execution_count": null,
   "metadata": {},
   "outputs": [],
   "source": [
    "input_sequences = []\n",
    "for line in corpus:\n",
    "    token_list = tokenizer.texts_to_sequences([line])[0]\n",
    "    for i in range(1, len(token_list)): \n",
    "        n_gram_seqs = token_list[:i+1]\n",
    "        input_sequences.append(n_gram_seqs)\n",
    "print(len(input_sequences))\n",
    "#print(input_sequences)"
   ]
  },
  {
   "cell_type": "code",
   "execution_count": null,
   "metadata": {},
   "outputs": [],
   "source": [
    "max_seq_length = max([len(x) for x in input_sequences])\n",
    "input_seqs = np.array(pad_sequences(input_sequences, maxlen=max_seq_length, padding='pre'))\n",
    "print(max_seq_length)\n",
    "print(input_seqs[:5])"
   ]
  },
  {
   "cell_type": "code",
   "execution_count": null,
   "metadata": {},
   "outputs": [],
   "source": [
    "x_values, labels = input_seqs[:, :-1], input_seqs[:, -1]\n",
    "y_values = tf.keras.utils.to_categorical(labels, num_classes=total_unique_words)\n",
    "print(x_values[:3])\n",
    "print(labels[:3])"
   ]
  },
  {
   "cell_type": "code",
   "execution_count": null,
   "metadata": {},
   "outputs": [],
   "source": []
  }
 ],
 "metadata": {
  "kernelspec": {
   "display_name": "vis2word",
   "language": "python",
   "name": "python3"
  },
  "language_info": {
   "codemirror_mode": {
    "name": "ipython",
    "version": 3
   },
   "file_extension": ".py",
   "mimetype": "text/x-python",
   "name": "python",
   "nbconvert_exporter": "python",
   "pygments_lexer": "ipython3",
   "version": "3.10.9"
  },
  "orig_nbformat": 4,
  "vscode": {
   "interpreter": {
    "hash": "6d4d24b1a05244f9cc95f9592a94ce8f22bdfbb63a655bdf79b5c70c401b778f"
   }
  }
 },
 "nbformat": 4,
 "nbformat_minor": 2
}
